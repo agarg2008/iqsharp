{
 "cells": [
  {
   "cell_type": "code",
   "execution_count": 1,
   "metadata": {},
   "outputs": [
    {
     "data": {
      "application/json": "[\"HelloQ\"]",
      "text/html": [
       "<ul><li>HelloQ</li></ul>"
      ],
      "text/plain": [
       "HelloQ"
      ]
     },
     "execution_count": 1,
     "metadata": {},
     "output_type": "execute_result"
    }
   ],
   "source": [
    "operation HelloQ(name: String) : Unit {\n",
    "\n",
    "    // The following line will simply write a message to the console:\n",
    "    Message($\"Hello {name}!\");\n",
    "\n",
    "}"
   ]
  },
  {
   "cell_type": "code",
   "execution_count": 5,
   "metadata": {},
   "outputs": [
    {
     "data": {
      "application/json": "{\"rows\":[{\"@type\":\"@tuple\",\"Item1\":\"iqsharp\",\"Item2\":\"1.0.0.0\"},{\"@type\":\"@tuple\",\"Item1\":\"Jupyter Core\",\"Item2\":\"1.1.14623.0\"}]}",
      "text/html": [
       "<table><thead><tr><th>Component</th><th>Version</th></tr></thead><tbody><tr><td>iqsharp</td><td>1.0.0.0</td></tr><tr><td>Jupyter Core</td><td>1.1.14623.0</td></tr></tbody></table>"
      ],
      "text/plain": [
       "Component    Version\r\n",
       "------------ -----------\r\n",
       "iqsharp      1.0.0.0\r\n",
       "Jupyter Core 1.1.14623.0\r\n"
      ]
     },
     "metadata": {},
     "output_type": "display_data"
    }
   ],
   "source": [
    "%version"
   ]
  },
  {
   "cell_type": "code",
   "execution_count": 21,
   "metadata": {},
   "outputs": [
    {
     "data": {
      "application/json": "[\"HelloWorldCircuit\"]",
      "text/html": [
       "<ul><li>HelloWorldCircuit</li></ul>"
      ],
      "text/plain": [
       "HelloWorldCircuit"
      ]
     },
     "execution_count": 21,
     "metadata": {},
     "output_type": "execute_result"
    }
   ],
   "source": [
    "\n",
    "operation HelloWorldCircuit() : Unit {\n",
    "\tusing( (q1,q2) = (Qubit(),Qubit())) \n",
    "\t{\n",
    "\t\tH(q1);\n",
    "\t\tH(q2);\n",
    "\t\tCNOT(q1,q2);\n",
    "\t\tCNOT(q2,q1);\n",
    "        SWAP(q2, q1);\n",
    "\t}\n",
    "}\n"
   ]
  },
  {
   "cell_type": "code",
   "execution_count": 7,
   "metadata": {},
   "outputs": [
    {
     "data": {
      "application/json": "\"     ┌───┐     ┌───┐     \\r\\n|0>──┤ H ├──@──┤ X ├──╳──\\r\\n     └───┘  │  └─┬─┘  │  \\r\\n     ┌───┐┌─┴─┐  │    │  \\r\\n|0>──┤ H ├┤ X ├──@────╳──\\r\\n     └───┘└───┘          \\r\\n\"",
      "text/plain": [
       "     ┌───┐     ┌───┐     \r\n",
       "|0>──┤ H ├──@──┤ X ├──╳──\r\n",
       "     └───┘  │  └─┬─┘  │  \r\n",
       "     ┌───┐┌─┴─┐  │    │  \r\n",
       "|0>──┤ H ├┤ X ├──@────╳──\r\n",
       "     └───┘└───┘          \r\n"
      ]
     },
     "execution_count": 7,
     "metadata": {},
     "output_type": "execute_result"
    }
   ],
   "source": [
    "%circuit HelloWorldCircuit"
   ]
  },
  {
   "cell_type": "code",
   "execution_count": 24,
   "metadata": {},
   "outputs": [
    {
     "name": "stderr",
     "output_type": "stream",
     "text": [
      "c:/snippet:(5,17): error QS3027: Syntax error in constructor expression.\n"
     ]
    }
   ],
   "source": [
    "operation HelloQ(name: String) : Unit {\n",
    "\n",
    "    // The following line will simply write a message to the console:\n",
    "    Message($\"Hello {name}!\");\n",
    "    let a = new Qubit(1);\n",
    "}"
   ]
  }
 ],
 "metadata": {
  "kernelspec": {
   "display_name": "iqsharp",
   "language": "qsharp",
   "name": "iqsharp"
  },
  "language_info": {
   "file_extension": ".qs",
   "mimetype": "text/x-qsharp",
   "name": "qsharp",
   "version": "0.4"
  }
 },
 "nbformat": 4,
 "nbformat_minor": 2
}
